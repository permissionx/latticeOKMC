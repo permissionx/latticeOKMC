{
 "cells": [
  {
   "cell_type": "markdown",
   "metadata": {},
   "source": [
    "### Library"
   ]
  },
  {
   "cell_type": "code",
   "execution_count": 1,
   "metadata": {},
   "outputs": [],
   "source": [
    "using Plots, Measures"
   ]
  },
  {
   "cell_type": "code",
   "execution_count": 2,
   "metadata": {},
   "outputs": [
    {
     "data": {
      "text/plain": [
       "test7 (generic function with 1 method)"
      ]
     },
     "metadata": {},
     "output_type": "display_data"
    }
   ],
   "source": [
    "include(\"main.jl\")"
   ]
  },
  {
   "cell_type": "code",
   "execution_count": 3,
   "metadata": {},
   "outputs": [
    {
     "data": {
      "text/plain": [
       "PlotLine! (generic function with 1 method)"
      ]
     },
     "metadata": {},
     "output_type": "display_data"
    }
   ],
   "source": [
    "function PlotLine(points::Matrix{Int64}; color::Int64=1, ls=:solid)\n",
    "    plot(points[:,1], points[:,2], points[:,3], color = color, ls=ls, lw=2,\n",
    "    zlim=(-2,2), xlim=(-2,2), ylim=(-2,2),aspect_ratio=:equal,legend= false, showaxis = false, ticks = false,\n",
    "     size = (300,300))\n",
    "end\n",
    "function PlotLine!(points::Matrix{Int64}; color::Int64=1, ls=:solid)\n",
    "    plot!(points[:,1], points[:,2], points[:,3], color = color, ls=ls, lw=2)\n",
    "end"
   ]
  },
  {
   "cell_type": "code",
   "execution_count": 4,
   "metadata": {},
   "outputs": [
    {
     "data": {
      "text/plain": [
       "background (generic function with 1 method)"
      ]
     },
     "metadata": {},
     "output_type": "display_data"
    }
   ],
   "source": [
    "function background()\n",
    "    points = [1 1 1; 1 -1 1; -1 -1 1; -1 1 1; 1 1 1]\n",
    "    PlotLine(points)\n",
    "    points = [1 1 -1; 1 -1 -1; -1 -1 -1]\n",
    "    PlotLine!(points)\n",
    "    points = [ -1 1 -1; 1 1 -1]\n",
    "    PlotLine!(points, ls=:dash)\n",
    "    points = [ -1 1 -1; -1 -1 -1]\n",
    "    PlotLine!(points, ls=:dash)\n",
    "    points = [1 1 -1; 1 1 1]\n",
    "    PlotLine!(points)\n",
    "    points = [1 -1 -1; 1 -1 1]\n",
    "    PlotLine!(points)\n",
    "    points = [-1 1 -1; -1 1 1]\n",
    "    PlotLine!(points, ls=:dash)\n",
    "    points = [-1 -1 -1; -1 -1 1]\n",
    "    PlotLine!(points)\n",
    "    \n",
    "    points1 = [1 1 1; 1 1 -1; 1 -1 1; 1 -1 -1; -1 1 1; -1 1 -1; -1 -1 1; -1 -1 -1]\n",
    "    points2 = [2 0 0; 0 2 0; 0 0 2; -2 0 0; 0 -2 0; 0 0 -2]\n",
    "    points = vcat(points1, points2)\n",
    "    scatter!(points[:,1], points[:,2], points[:,3], mc=:white)\n",
    "    scatter!([0], [0], [0], mc=:black)\n",
    "    end"
   ]
  },
  {
   "cell_type": "markdown",
   "metadata": {},
   "source": []
  },
  {
   "cell_type": "code",
   "execution_count": 5,
   "metadata": {},
   "outputs": [
    {
     "data": {
      "text/plain": [
       "PlotNeighborCoords (generic function with 1 method)"
      ]
     },
     "metadata": {},
     "output_type": "display_data"
    }
   ],
   "source": [
    "function PlotNeighborCoords(coords::Matrix{Int32})\n",
    "    background()\n",
    "    scatter!(coords[:,1], coords[:,2], coords[:,3])\n",
    "end"
   ]
  },
  {
   "cell_type": "code",
   "execution_count": 6,
   "metadata": {},
   "outputs": [
    {
     "data": {
      "text/plain": [
       "PlotNeighborCondition (generic function with 1 method)"
      ]
     },
     "metadata": {},
     "output_type": "display_data"
    }
   ],
   "source": [
    "function PlotNeighborCondition(point::Point)\n",
    "    deltas = Matrix{Int32}(undef, 0, 3)\n",
    "    for neighbor in point.neighbors\n",
    "        coord = neighbor.coord\n",
    "        delta = coord - point.coord\n",
    "        deltas = vcat(deltas, delta')\n",
    "    end\n",
    "    PlotNeighborCoords(deltas)\n",
    "end"
   ]
  },
  {
   "cell_type": "markdown",
   "metadata": {},
   "source": [
    "### Test"
   ]
  },
  {
   "cell_type": "code",
   "execution_count": 7,
   "metadata": {},
   "outputs": [
    {
     "name": "stdout",
     "output_type": "stream",
     "text": [
      "Initialization completed!\n"
     ]
    }
   ],
   "source": [
    "Random.seed!(1234)\n",
    "mapSize = Vector{UInt32}([300,300,300])\n",
    "universe = Universe(mapSize)\n",
    "fileName = \"/mnt/c/Users/xuke/Desktop/test6.dump\"\n",
    "RefreshFile(fileName)\n",
    "test7(universe)"
   ]
  },
  {
   "cell_type": "code",
   "execution_count": null,
   "metadata": {},
   "outputs": [],
   "source": [
    "point = universe.points[20]"
   ]
  },
  {
   "cell_type": "code",
   "execution_count": null,
   "metadata": {},
   "outputs": [],
   "source": [
    "point.neighbors"
   ]
  },
  {
   "cell_type": "code",
   "execution_count": null,
   "metadata": {},
   "outputs": [],
   "source": [
    "c = point.object.vacMigrationCondition"
   ]
  },
  {
   "cell_type": "code",
   "execution_count": null,
   "metadata": {},
   "outputs": [],
   "source": [
    "PlotNeighborCondition(point)"
   ]
  },
  {
   "cell_type": "code",
   "execution_count": 11,
   "metadata": {},
   "outputs": [
    {
     "data": {
      "text/plain": [
       "4-element Weights{Int64, Int64, Vector{Int64}}:\n",
       " 1\n",
       " 2\n",
       " 4\n",
       " 8"
      ]
     },
     "metadata": {},
     "output_type": "display_data"
    }
   ],
   "source": [
    "a = Weights([1,2,4,8])"
   ]
  },
  {
   "cell_type": "code",
   "execution_count": 17,
   "metadata": {},
   "outputs": [
    {
     "data": {
      "text/plain": [
       "1000-element Vector{Int64}:\n",
       " 4\n",
       " 2\n",
       " 1\n",
       " 2\n",
       " 4\n",
       " 3\n",
       " 3\n",
       " 2\n",
       " 4\n",
       " 4\n",
       " ⋮\n",
       " 4\n",
       " 4\n",
       " 2\n",
       " 3\n",
       " 1\n",
       " 4\n",
       " 4\n",
       " 4\n",
       " 2"
      ]
     },
     "metadata": {},
     "output_type": "display_data"
    }
   ],
   "source": [
    "out = sample([1,2,3,4], a, 1000)"
   ]
  },
  {
   "cell_type": "code",
   "execution_count": 18,
   "metadata": {},
   "outputs": [
    {
     "data": {
      "image/png": "[encoded data removed]",
      "image/svg+xml": "<?xml version=\"1.0\" encoding=\"utf-8\"?>\n<svg xmlns=\"http://www.w3.org/2000/svg\" xmlns:xlink=\"http://www.w3.org/1999/xlink\" width=\"600\" height=\"400\" viewBox=\"0 0 2400 1600\">\n<defs>\n  <clipPath id=\"clip960\">\n    <rect x=\"0\" y=\"0\" width=\"2400\" height=\"1600\"/>\n  </clipPath>\n</defs>\n<path clip-path=\"url(#clip960)\" d=\"\nM0 1600 L2400 1600 L2400 0 L0 0  Z\n  \" fill=\"#ffffff\" fill-rule=\"evenodd\" fill-opacity=\"1\"/>\n<defs>\n  <clipPath id=\"clip961\">\n    <rect x=\"480\" y=\"0\" width=\"1681\" height=\"1600\"/>\n  </clipPath>\n</defs>\n<path clip-path=\"url(#clip960)\" d=\"\nM172.015 1486.45 L2352.76 1486.45 L2352.76 47.2441 L172.015 47.2441  Z\n  \" fill=\"#ffffff\" fill-rule=\"evenodd\" fill-opacity=\"1\"/>\n<defs>\n  <clipPath id=\"clip962\">\n    <rect x=\"172\" y=\"47\" width=\"2182\" height=\"1440\"/>\n  </clipPath>\n</defs>\n<polyline clip-path=\"url(#clip962)\" style=\"stroke:#000000; stroke-linecap:butt; stroke-linejoin:round; stroke-width:2; stroke-opacity:0.1; fill:none\" points=\"\n  291.959,1486.45 291.959,47.2441 \n  \"/>\n<polyline clip-path=\"url(#clip962)\" style=\"stroke:#000000; stroke-linecap:butt; stroke-linejoin:round; stroke-width:2; stroke-opacity:0.1; fill:none\" points=\"\n  898.476,1486.45 898.476,47.2441 \n  \"/>\n<polyline clip-path=\"url(#clip962)\" style=\"stroke:#000000; stroke-linecap:butt; stroke-linejoin:round; stroke-width:2; stroke-opacity:0.1; fill:none\" points=\"\n  1504.99,1486.45 1504.99,47.2441 \n  \"/>\n<polyline clip-path=\"url(#clip962)\" style=\"stroke:#000000; stroke-linecap:butt; stroke-linejoin:round; stroke-width:2; stroke-opacity:0.1; fill:none\" points=\"\n  2111.51,1486.45 2111.51,47.2441 \n  \"/>\n<polyline clip-path=\"url(#clip960)\" style=\"stroke:#000000; stroke-linecap:butt; stroke-linejoin:round; stroke-width:4; stroke-opacity:1; fill:none\" points=\"\n  172.015,1486.45 2352.76,1486.45 \n  \"/>\n<polyline clip-path=\"url(#clip960)\" style=\"stroke:#000000; stroke-linecap:butt; stroke-linejoin:round; stroke-width:4; stroke-opacity:1; fill:none\" points=\"\n  291.959,1486.45 291.959,1467.55 \n  \"/>\n<polyline clip-path=\"url(#clip960)\" style=\"stroke:#000000; stroke-linecap:butt; stroke-linejoin:round; stroke-width:4; stroke-opacity:1; fill:none\" points=\"\n  898.476,1486.45 898.476,1467.55 \n  \"/>\n<polyline clip-path=\"url(#clip960)\" style=\"stroke:#000000; stroke-linecap:butt; stroke-linejoin:round; stroke-width:4; stroke-opacity:1; fill:none\" points=\"\n  1504.99,1486.45 1504.99,1467.55 \n  \"/>\n<polyline clip-path=\"url(#clip960)\" style=\"stroke:#000000; stroke-linecap:butt; stroke-linejoin:round; stroke-width:4; stroke-opacity:1; fill:none\" points=\"\n  2111.51,1486.45 2111.51,1467.55 \n  \"/>\n<path clip-path=\"url(#clip960)\" d=\"M282.341 1544.91 L289.98 1544.91 L289.98 1518.55 L281.67 1520.21 L281.67 1515.95 L289.934 1514.29 L294.61 1514.29 L294.61 1544.91 L302.249 1544.91 L302.249 1548.85 L282.341 1548.85 L282.341 1544.91 Z\" fill=\"#000000\" fill-rule=\"evenodd\" fill-opacity=\"1\" /><path clip-path=\"url(#clip960)\" d=\"M893.128 1544.91 L909.448 1544.91 L909.448 1548.85 L887.503 1548.85 L887.503 1544.91 Q890.166 1542.16 894.749 1537.53 Q899.355 1532.88 900.536 1531.53 Q902.781 1529.01 903.661 1527.27 Q904.564 1525.51 904.564 1523.82 Q904.564 1521.07 902.619 1519.33 Q900.698 1517.6 897.596 1517.6 Q895.397 1517.6 892.943 1518.36 Q890.513 1519.13 887.735 1520.68 L887.735 1515.95 Q890.559 1514.82 893.013 1514.24 Q895.466 1513.66 897.503 1513.66 Q902.874 1513.66 906.068 1516.35 Q909.263 1519.03 909.263 1523.52 Q909.263 1525.65 908.452 1527.57 Q907.665 1529.47 905.559 1532.07 Q904.98 1532.74 901.878 1535.95 Q898.777 1539.15 893.128 1544.91 Z\" fill=\"#000000\" fill-rule=\"evenodd\" fill-opacity=\"1\" /><path clip-path=\"url(#clip960)\" d=\"M1509.24 1530.21 Q1512.6 1530.93 1514.47 1533.2 Q1516.37 1535.47 1516.37 1538.8 Q1516.37 1543.92 1512.85 1546.72 Q1509.33 1549.52 1502.85 1549.52 Q1500.67 1549.52 1498.36 1549.08 Q1496.07 1548.66 1493.61 1547.81 L1493.61 1543.29 Q1495.56 1544.43 1497.87 1545.01 Q1500.19 1545.58 1502.71 1545.58 Q1507.11 1545.58 1509.4 1543.85 Q1511.72 1542.11 1511.72 1538.8 Q1511.72 1535.75 1509.56 1534.03 Q1507.43 1532.3 1503.61 1532.3 L1499.59 1532.3 L1499.59 1528.45 L1503.8 1528.45 Q1507.25 1528.45 1509.08 1527.09 Q1510.91 1525.7 1510.91 1523.11 Q1510.91 1520.45 1509.01 1519.03 Q1507.13 1517.6 1503.61 1517.6 Q1501.69 1517.6 1499.49 1518.01 Q1497.3 1518.43 1494.66 1519.31 L1494.66 1515.14 Q1497.32 1514.4 1499.63 1514.03 Q1501.97 1513.66 1504.03 1513.66 Q1509.36 1513.66 1512.46 1516.09 Q1515.56 1518.5 1515.56 1522.62 Q1515.56 1525.49 1513.92 1527.48 Q1512.27 1529.45 1509.24 1530.21 Z\" fill=\"#000000\" fill-rule=\"evenodd\" fill-opacity=\"1\" /><path clip-path=\"url(#clip960)\" d=\"M2114.52 1518.36 L2102.71 1536.81 L2114.52 1536.81 L2114.52 1518.36 M2113.29 1514.29 L2119.17 1514.29 L2119.17 1536.81 L2124.1 1536.81 L2124.1 1540.7 L2119.17 1540.7 L2119.17 1548.85 L2114.52 1548.85 L2114.52 1540.7 L2098.92 1540.7 L2098.92 1536.19 L2113.29 1514.29 Z\" fill=\"#000000\" fill-rule=\"evenodd\" fill-opacity=\"1\" /><polyline clip-path=\"url(#clip962)\" style=\"stroke:#000000; stroke-linecap:butt; stroke-linejoin:round; stroke-width:2; stroke-opacity:0.1; fill:none\" points=\"\n  172.015,1445.72 2352.76,1445.72 \n  \"/>\n<polyline clip-path=\"url(#clip962)\" style=\"stroke:#000000; stroke-linecap:butt; stroke-linejoin:round; stroke-width:2; stroke-opacity:0.1; fill:none\" points=\"\n  172.015,1192.41 2352.76,1192.41 \n  \"/>\n<polyline clip-path=\"url(#clip962)\" style=\"stroke:#000000; stroke-linecap:butt; stroke-linejoin:round; stroke-width:2; stroke-opacity:0.1; fill:none\" points=\"\n  172.015,939.097 2352.76,939.097 \n  \"/>\n<polyline clip-path=\"url(#clip962)\" style=\"stroke:#000000; stroke-linecap:butt; stroke-linejoin:round; stroke-width:2; stroke-opacity:0.1; fill:none\" points=\"\n  172.015,685.787 2352.76,685.787 \n  \"/>\n<polyline clip-path=\"url(#clip962)\" style=\"stroke:#000000; stroke-linecap:butt; stroke-linejoin:round; stroke-width:2; stroke-opacity:0.1; fill:none\" points=\"\n  172.015,432.477 2352.76,432.477 \n  \"/>\n<polyline clip-path=\"url(#clip962)\" style=\"stroke:#000000; stroke-linecap:butt; stroke-linejoin:round; stroke-width:2; stroke-opacity:0.1; fill:none\" points=\"\n  172.015,179.168 2352.76,179.168 \n  \"/>\n<polyline clip-path=\"url(#clip960)\" style=\"stroke:#000000; stroke-linecap:butt; stroke-linejoin:round; stroke-width:4; stroke-opacity:1; fill:none\" points=\"\n  172.015,1486.45 172.015,47.2441 \n  \"/>\n<polyline clip-path=\"url(#clip960)\" style=\"stroke:#000000; stroke-linecap:butt; stroke-linejoin:round; stroke-width:4; stroke-opacity:1; fill:none\" points=\"\n  172.015,1445.72 190.912,1445.72 \n  \"/>\n<polyline clip-path=\"url(#clip960)\" style=\"stroke:#000000; stroke-linecap:butt; stroke-linejoin:round; stroke-width:4; stroke-opacity:1; fill:none\" points=\"\n  172.015,1192.41 190.912,1192.41 \n  \"/>\n<polyline clip-path=\"url(#clip960)\" style=\"stroke:#000000; stroke-linecap:butt; stroke-linejoin:round; stroke-width:4; stroke-opacity:1; fill:none\" points=\"\n  172.015,939.097 190.912,939.097 \n  \"/>\n<polyline clip-path=\"url(#clip960)\" style=\"stroke:#000000; stroke-linecap:butt; stroke-linejoin:round; stroke-width:4; stroke-opacity:1; fill:none\" points=\"\n  172.015,685.787 190.912,685.787 \n  \"/>\n<polyline clip-path=\"url(#clip960)\" style=\"stroke:#000000; stroke-linecap:butt; stroke-linejoin:round; stroke-width:4; stroke-opacity:1; fill:none\" points=\"\n  172.015,432.477 190.912,432.477 \n  \"/>\n<polyline clip-path=\"url(#clip960)\" style=\"stroke:#000000; stroke-linecap:butt; stroke-linejoin:round; stroke-width:4; stroke-opacity:1; fill:none\" points=\"\n  172.015,179.168 190.912,179.168 \n  \"/>\n<path clip-path=\"url(#clip960)\" d=\"M124.07 1431.51 Q120.459 1431.51 118.631 1435.08 Q116.825 1438.62 116.825 1445.75 Q116.825 1452.86 118.631 1456.42 Q120.459 1459.96 124.07 1459.96 Q127.705 1459.96 129.51 1456.42 Q131.339 1452.86 131.339 1445.75 Q131.339 1438.62 129.51 1435.08 Q127.705 1431.51 124.07 1431.51 M124.07 1427.81 Q129.881 1427.81 132.936 1432.42 Q136.015 1437 136.015 1445.75 Q136.015 1454.48 132.936 1459.08 Q129.881 1463.67 124.07 1463.67 Q118.26 1463.67 115.182 1459.08 Q112.126 1454.48 112.126 1445.75 Q112.126 1437 115.182 1432.42 Q118.26 1427.81 124.07 1427.81 Z\" fill=\"#000000\" fill-rule=\"evenodd\" fill-opacity=\"1\" /><path clip-path=\"url(#clip960)\" d=\"M54.5569 1205.75 L62.1958 1205.75 L62.1958 1179.39 L53.8856 1181.05 L53.8856 1176.79 L62.1495 1175.13 L66.8254 1175.13 L66.8254 1205.75 L74.4642 1205.75 L74.4642 1209.69 L54.5569 1209.69 L54.5569 1205.75 Z\" fill=\"#000000\" fill-rule=\"evenodd\" fill-opacity=\"1\" /><path clip-path=\"url(#clip960)\" d=\"M93.9086 1178.2 Q90.2975 1178.2 88.4688 1181.77 Q86.6632 1185.31 86.6632 1192.44 Q86.6632 1199.55 88.4688 1203.11 Q90.2975 1206.65 93.9086 1206.65 Q97.5428 1206.65 99.3483 1203.11 Q101.177 1199.55 101.177 1192.44 Q101.177 1185.31 99.3483 1181.77 Q97.5428 1178.2 93.9086 1178.2 M93.9086 1174.5 Q99.7187 1174.5 102.774 1179.11 Q105.853 1183.69 105.853 1192.44 Q105.853 1201.17 102.774 1205.77 Q99.7187 1210.36 93.9086 1210.36 Q88.0984 1210.36 85.0197 1205.77 Q81.9642 1201.17 81.9642 1192.44 Q81.9642 1183.69 85.0197 1179.11 Q88.0984 1174.5 93.9086 1174.5 Z\" fill=\"#000000\" fill-rule=\"evenodd\" fill-opacity=\"1\" /><path clip-path=\"url(#clip960)\" d=\"M124.07 1178.2 Q120.459 1178.2 118.631 1181.77 Q116.825 1185.31 116.825 1192.44 Q116.825 1199.55 118.631 1203.11 Q120.459 1206.65 124.07 1206.65 Q127.705 1206.65 129.51 1203.11 Q131.339 1199.55 131.339 1192.44 Q131.339 1185.31 129.51 1181.77 Q127.705 1178.2 124.07 1178.2 M124.07 1174.5 Q129.881 1174.5 132.936 1179.11 Q136.015 1183.69 136.015 1192.44 Q136.015 1201.17 132.936 1205.77 Q129.881 1210.36 124.07 1210.36 Q118.26 1210.36 115.182 1205.77 Q112.126 1201.17 112.126 1192.44 Q112.126 1183.69 115.182 1179.11 Q118.26 1174.5 124.07 1174.5 Z\" fill=\"#000000\" fill-rule=\"evenodd\" fill-opacity=\"1\" /><path clip-path=\"url(#clip960)\" d=\"M57.7745 952.441 L74.0939 952.441 L74.0939 956.377 L52.1495 956.377 L52.1495 952.441 Q54.8115 949.687 59.3949 945.057 Q64.0013 940.404 65.1819 939.062 Q67.4272 936.539 68.3068 934.803 Q69.2096 933.043 69.2096 931.353 Q69.2096 928.599 67.2652 926.863 Q65.3439 925.127 62.2421 925.127 Q60.043 925.127 57.5893 925.891 Q55.1588 926.654 52.381 928.205 L52.381 923.483 Q55.2051 922.349 57.6588 921.77 Q60.1124 921.192 62.1495 921.192 Q67.5198 921.192 70.7142 923.877 Q73.9087 926.562 73.9087 931.053 Q73.9087 933.182 73.0985 935.103 Q72.3115 937.002 70.205 939.594 Q69.6263 940.265 66.5245 943.483 Q63.4226 946.677 57.7745 952.441 Z\" fill=\"#000000\" fill-rule=\"evenodd\" fill-opacity=\"1\" /><path clip-path=\"url(#clip960)\" d=\"M93.9086 924.895 Q90.2975 924.895 88.4688 928.46 Q86.6632 932.002 86.6632 939.131 Q86.6632 946.238 88.4688 949.802 Q90.2975 953.344 93.9086 953.344 Q97.5428 953.344 99.3483 949.802 Q101.177 946.238 101.177 939.131 Q101.177 932.002 99.3483 928.46 Q97.5428 924.895 93.9086 924.895 M93.9086 921.192 Q99.7187 921.192 102.774 925.798 Q105.853 930.381 105.853 939.131 Q105.853 947.858 102.774 952.464 Q99.7187 957.048 93.9086 957.048 Q88.0984 957.048 85.0197 952.464 Q81.9642 947.858 81.9642 939.131 Q81.9642 930.381 85.0197 925.798 Q88.0984 921.192 93.9086 921.192 Z\" fill=\"#000000\" fill-rule=\"evenodd\" fill-opacity=\"1\" /><path clip-path=\"url(#clip960)\" d=\"M124.07 924.895 Q120.459 924.895 118.631 928.46 Q116.825 932.002 116.825 939.131 Q116.825 946.238 118.631 949.802 Q120.459 953.344 124.07 953.344 Q127.705 953.344 129.51 949.802 Q131.339 946.238 131.339 939.131 Q131.339 932.002 129.51 928.46 Q127.705 924.895 124.07 924.895 M124.07 921.192 Q129.881 921.192 132.936 925.798 Q136.015 930.381 136.015 939.131 Q136.015 947.858 132.936 952.464 Q129.881 957.048 124.07 957.048 Q118.26 957.048 115.182 952.464 Q112.126 947.858 112.126 939.131 Q112.126 930.381 115.182 925.798 Q118.26 921.192 124.07 921.192 Z\" fill=\"#000000\" fill-rule=\"evenodd\" fill-opacity=\"1\" /><path clip-path=\"url(#clip960)\" d=\"M67.9133 684.433 Q71.2698 685.15 73.1448 687.419 Q75.0429 689.687 75.0429 693.021 Q75.0429 698.136 71.5244 700.937 Q68.0059 703.738 61.5245 703.738 Q59.3486 703.738 57.0338 703.298 Q54.7421 702.882 52.2884 702.025 L52.2884 697.511 Q54.2328 698.646 56.5477 699.224 Q58.8625 699.803 61.3856 699.803 Q65.7837 699.803 68.0754 698.067 Q70.3902 696.331 70.3902 693.021 Q70.3902 689.965 68.2374 688.252 Q66.1078 686.516 62.2884 686.516 L58.2606 686.516 L58.2606 682.674 L62.4735 682.674 Q65.9226 682.674 67.7513 681.308 Q69.58 679.919 69.58 677.326 Q69.58 674.664 67.6819 673.252 Q65.8069 671.817 62.2884 671.817 Q60.3671 671.817 58.168 672.234 Q55.969 672.65 53.3301 673.53 L53.3301 669.363 Q55.9921 668.623 58.3069 668.252 Q60.6449 667.882 62.705 667.882 Q68.0291 667.882 71.1309 670.312 Q74.2327 672.72 74.2327 676.84 Q74.2327 679.711 72.5892 681.701 Q70.9457 683.669 67.9133 684.433 Z\" fill=\"#000000\" fill-rule=\"evenodd\" fill-opacity=\"1\" /><path clip-path=\"url(#clip960)\" d=\"M93.9086 671.586 Q90.2975 671.586 88.4688 675.15 Q86.6632 678.692 86.6632 685.822 Q86.6632 692.928 88.4688 696.493 Q90.2975 700.035 93.9086 700.035 Q97.5428 700.035 99.3483 696.493 Q101.177 692.928 101.177 685.822 Q101.177 678.692 99.3483 675.15 Q97.5428 671.586 93.9086 671.586 M93.9086 667.882 Q99.7187 667.882 102.774 672.488 Q105.853 677.072 105.853 685.822 Q105.853 694.548 102.774 699.155 Q99.7187 703.738 93.9086 703.738 Q88.0984 703.738 85.0197 699.155 Q81.9642 694.548 81.9642 685.822 Q81.9642 677.072 85.0197 672.488 Q88.0984 667.882 93.9086 667.882 Z\" fill=\"#000000\" fill-rule=\"evenodd\" fill-opacity=\"1\" /><path clip-path=\"url(#clip960)\" d=\"M124.07 671.586 Q120.459 671.586 118.631 675.15 Q116.825 678.692 116.825 685.822 Q116.825 692.928 118.631 696.493 Q120.459 700.035 124.07 700.035 Q127.705 700.035 129.51 696.493 Q131.339 692.928 131.339 685.822 Q131.339 678.692 129.51 675.15 Q127.705 671.586 124.07 671.586 M124.07 667.882 Q129.881 667.882 132.936 672.488 Q136.015 677.072 136.015 685.822 Q136.015 694.548 132.936 699.155 Q129.881 703.738 124.07 703.738 Q118.26 703.738 115.182 699.155 Q112.126 694.548 112.126 685.822 Q112.126 677.072 115.182 672.488 Q118.26 667.882 124.07 667.882 Z\" fill=\"#000000\" fill-rule=\"evenodd\" fill-opacity=\"1\" /><path clip-path=\"url(#clip960)\" d=\"M66.5939 419.271 L54.7884 437.72 L66.5939 437.72 L66.5939 419.271 M65.367 415.197 L71.2466 415.197 L71.2466 437.72 L76.1772 437.72 L76.1772 441.609 L71.2466 441.609 L71.2466 449.757 L66.5939 449.757 L66.5939 441.609 L50.9921 441.609 L50.9921 437.095 L65.367 415.197 Z\" fill=\"#000000\" fill-rule=\"evenodd\" fill-opacity=\"1\" /><path clip-path=\"url(#clip960)\" d=\"M93.9086 418.276 Q90.2975 418.276 88.4688 421.841 Q86.6632 425.382 86.6632 432.512 Q86.6632 439.618 88.4688 443.183 Q90.2975 446.725 93.9086 446.725 Q97.5428 446.725 99.3483 443.183 Q101.177 439.618 101.177 432.512 Q101.177 425.382 99.3483 421.841 Q97.5428 418.276 93.9086 418.276 M93.9086 414.572 Q99.7187 414.572 102.774 419.179 Q105.853 423.762 105.853 432.512 Q105.853 441.239 102.774 445.845 Q99.7187 450.429 93.9086 450.429 Q88.0984 450.429 85.0197 445.845 Q81.9642 441.239 81.9642 432.512 Q81.9642 423.762 85.0197 419.179 Q88.0984 414.572 93.9086 414.572 Z\" fill=\"#000000\" fill-rule=\"evenodd\" fill-opacity=\"1\" /><path clip-path=\"url(#clip960)\" d=\"M124.07 418.276 Q120.459 418.276 118.631 421.841 Q116.825 425.382 116.825 432.512 Q116.825 439.618 118.631 443.183 Q120.459 446.725 124.07 446.725 Q127.705 446.725 129.51 443.183 Q131.339 439.618 131.339 432.512 Q131.339 425.382 129.51 421.841 Q127.705 418.276 124.07 418.276 M124.07 414.572 Q129.881 414.572 132.936 419.179 Q136.015 423.762 136.015 432.512 Q136.015 441.239 132.936 445.845 Q129.881 450.429 124.07 450.429 Q118.26 450.429 115.182 445.845 Q112.126 441.239 112.126 432.512 Q112.126 423.762 115.182 419.179 Q118.26 414.572 124.07 414.572 Z\" fill=\"#000000\" fill-rule=\"evenodd\" fill-opacity=\"1\" /><path clip-path=\"url(#clip960)\" d=\"M53.793 161.888 L72.1494 161.888 L72.1494 165.823 L58.0754 165.823 L58.0754 174.295 Q59.0939 173.948 60.1124 173.786 Q61.131 173.601 62.1495 173.601 Q67.9365 173.601 71.3161 176.772 Q74.6957 179.943 74.6957 185.36 Q74.6957 190.939 71.2235 194.04 Q67.7513 197.119 61.4319 197.119 Q59.256 197.119 56.9875 196.749 Q54.7421 196.378 52.3347 195.638 L52.3347 190.939 Q54.418 192.073 56.6402 192.628 Q58.8625 193.184 61.3393 193.184 Q65.3439 193.184 67.6819 191.077 Q70.0198 188.971 70.0198 185.36 Q70.0198 181.749 67.6819 179.642 Q65.3439 177.536 61.3393 177.536 Q59.4643 177.536 57.5893 177.952 Q55.7375 178.369 53.793 179.249 L53.793 161.888 Z\" fill=\"#000000\" fill-rule=\"evenodd\" fill-opacity=\"1\" /><path clip-path=\"url(#clip960)\" d=\"M93.9086 164.966 Q90.2975 164.966 88.4688 168.531 Q86.6632 172.073 86.6632 179.202 Q86.6632 186.309 88.4688 189.874 Q90.2975 193.415 93.9086 193.415 Q97.5428 193.415 99.3483 189.874 Q101.177 186.309 101.177 179.202 Q101.177 172.073 99.3483 168.531 Q97.5428 164.966 93.9086 164.966 M93.9086 161.263 Q99.7187 161.263 102.774 165.869 Q105.853 170.452 105.853 179.202 Q105.853 187.929 102.774 192.536 Q99.7187 197.119 93.9086 197.119 Q88.0984 197.119 85.0197 192.536 Q81.9642 187.929 81.9642 179.202 Q81.9642 170.452 85.0197 165.869 Q88.0984 161.263 93.9086 161.263 Z\" fill=\"#000000\" fill-rule=\"evenodd\" fill-opacity=\"1\" /><path clip-path=\"url(#clip960)\" d=\"M124.07 164.966 Q120.459 164.966 118.631 168.531 Q116.825 172.073 116.825 179.202 Q116.825 186.309 118.631 189.874 Q120.459 193.415 124.07 193.415 Q127.705 193.415 129.51 189.874 Q131.339 186.309 131.339 179.202 Q131.339 172.073 129.51 168.531 Q127.705 164.966 124.07 164.966 M124.07 161.263 Q129.881 161.263 132.936 165.869 Q136.015 170.452 136.015 179.202 Q136.015 187.929 132.936 192.536 Q129.881 197.119 124.07 197.119 Q118.26 197.119 115.182 192.536 Q112.126 187.929 112.126 179.202 Q112.126 170.452 115.182 165.869 Q118.26 161.263 124.07 161.263 Z\" fill=\"#000000\" fill-rule=\"evenodd\" fill-opacity=\"1\" /><path clip-path=\"url(#clip962)\" d=\"\nM291.959 1270.93 L291.959 1445.72 L413.263 1445.72 L413.263 1270.93 L291.959 1270.93 L291.959 1270.93  Z\n  \" fill=\"#009af9\" fill-rule=\"evenodd\" fill-opacity=\"1\"/>\n<polyline clip-path=\"url(#clip962)\" style=\"stroke:#000000; stroke-linecap:butt; stroke-linejoin:round; stroke-width:4; stroke-opacity:1; fill:none\" points=\"\n  291.959,1270.93 291.959,1445.72 413.263,1445.72 413.263,1270.93 291.959,1270.93 \n  \"/>\n<path clip-path=\"url(#clip962)\" d=\"\nM413.263 1445.72 L413.263 1445.72 L534.566 1445.72 L534.566 1445.72 L413.263 1445.72 L413.263 1445.72  Z\n  \" fill=\"#009af9\" fill-rule=\"evenodd\" fill-opacity=\"1\"/>\n<polyline clip-path=\"url(#clip962)\" style=\"stroke:#000000; stroke-linecap:butt; stroke-linejoin:round; stroke-width:4; stroke-opacity:1; fill:none\" points=\"\n  413.263,1445.72 413.263,1445.72 534.566,1445.72 413.263,1445.72 \n  \"/>\n<path clip-path=\"url(#clip962)\" d=\"\nM534.566 1445.72 L534.566 1445.72 L655.869 1445.72 L655.869 1445.72 L534.566 1445.72 L534.566 1445.72  Z\n  \" fill=\"#009af9\" fill-rule=\"evenodd\" fill-opacity=\"1\"/>\n<polyline clip-path=\"url(#clip962)\" style=\"stroke:#000000; stroke-linecap:butt; stroke-linejoin:round; stroke-width:4; stroke-opacity:1; fill:none\" points=\"\n  534.566,1445.72 534.566,1445.72 655.869,1445.72 534.566,1445.72 \n  \"/>\n<path clip-path=\"url(#clip962)\" d=\"\nM655.869 1445.72 L655.869 1445.72 L777.172 1445.72 L777.172 1445.72 L655.869 1445.72 L655.869 1445.72  Z\n  \" fill=\"#009af9\" fill-rule=\"evenodd\" fill-opacity=\"1\"/>\n<polyline clip-path=\"url(#clip962)\" style=\"stroke:#000000; stroke-linecap:butt; stroke-linejoin:round; stroke-width:4; stroke-opacity:1; fill:none\" points=\"\n  655.869,1445.72 655.869,1445.72 777.172,1445.72 655.869,1445.72 \n  \"/>\n<path clip-path=\"url(#clip962)\" d=\"\nM777.172 1445.72 L777.172 1445.72 L898.476 1445.72 L898.476 1445.72 L777.172 1445.72 L777.172 1445.72  Z\n  \" fill=\"#009af9\" fill-rule=\"evenodd\" fill-opacity=\"1\"/>\n<polyline clip-path=\"url(#clip962)\" style=\"stroke:#000000; stroke-linecap:butt; stroke-linejoin:round; stroke-width:4; stroke-opacity:1; fill:none\" points=\"\n  777.172,1445.72 777.172,1445.72 898.476,1445.72 777.172,1445.72 \n  \"/>\n<path clip-path=\"url(#clip962)\" d=\"\nM898.476 1131.61 L898.476 1445.72 L1019.78 1445.72 L1019.78 1131.61 L898.476 1131.61 L898.476 1131.61  Z\n  \" fill=\"#009af9\" fill-rule=\"evenodd\" fill-opacity=\"1\"/>\n<polyline clip-path=\"url(#clip962)\" style=\"stroke:#000000; stroke-linecap:butt; stroke-linejoin:round; stroke-width:4; stroke-opacity:1; fill:none\" points=\"\n  898.476,1131.61 898.476,1445.72 1019.78,1445.72 1019.78,1131.61 898.476,1131.61 \n  \"/>\n<path clip-path=\"url(#clip962)\" d=\"\nM1019.78 1445.72 L1019.78 1445.72 L1141.08 1445.72 L1141.08 1445.72 L1019.78 1445.72 L1019.78 1445.72  Z\n  \" fill=\"#009af9\" fill-rule=\"evenodd\" fill-opacity=\"1\"/>\n<polyline clip-path=\"url(#clip962)\" style=\"stroke:#000000; stroke-linecap:butt; stroke-linejoin:round; stroke-width:4; stroke-opacity:1; fill:none\" points=\"\n  1019.78,1445.72 1019.78,1445.72 1141.08,1445.72 1019.78,1445.72 \n  \"/>\n<path clip-path=\"url(#clip962)\" d=\"\nM1141.08 1445.72 L1141.08 1445.72 L1262.39 1445.72 L1262.39 1445.72 L1141.08 1445.72 L1141.08 1445.72  Z\n  \" fill=\"#009af9\" fill-rule=\"evenodd\" fill-opacity=\"1\"/>\n<polyline clip-path=\"url(#clip962)\" style=\"stroke:#000000; stroke-linecap:butt; stroke-linejoin:round; stroke-width:4; stroke-opacity:1; fill:none\" points=\"\n  1141.08,1445.72 1141.08,1445.72 1262.39,1445.72 1141.08,1445.72 \n  \"/>\n<path clip-path=\"url(#clip962)\" d=\"\nM1262.39 1445.72 L1262.39 1445.72 L1383.69 1445.72 L1383.69 1445.72 L1262.39 1445.72 L1262.39 1445.72  Z\n  \" fill=\"#009af9\" fill-rule=\"evenodd\" fill-opacity=\"1\"/>\n<polyline clip-path=\"url(#clip962)\" style=\"stroke:#000000; stroke-linecap:butt; stroke-linejoin:round; stroke-width:4; stroke-opacity:1; fill:none\" points=\"\n  1262.39,1445.72 1262.39,1445.72 1383.69,1445.72 1262.39,1445.72 \n  \"/>\n<path clip-path=\"url(#clip962)\" d=\"\nM1383.69 1445.72 L1383.69 1445.72 L1504.99 1445.72 L1504.99 1445.72 L1383.69 1445.72 L1383.69 1445.72  Z\n  \" fill=\"#009af9\" fill-rule=\"evenodd\" fill-opacity=\"1\"/>\n<polyline clip-path=\"url(#clip962)\" style=\"stroke:#000000; stroke-linecap:butt; stroke-linejoin:round; stroke-width:4; stroke-opacity:1; fill:none\" points=\"\n  1383.69,1445.72 1383.69,1445.72 1504.99,1445.72 1383.69,1445.72 \n  \"/>\n<path clip-path=\"url(#clip962)\" d=\"\nM1504.99 759.247 L1504.99 1445.72 L1626.3 1445.72 L1626.3 759.247 L1504.99 759.247 L1504.99 759.247  Z\n  \" fill=\"#009af9\" fill-rule=\"evenodd\" fill-opacity=\"1\"/>\n<polyline clip-path=\"url(#clip962)\" style=\"stroke:#000000; stroke-linecap:butt; stroke-linejoin:round; stroke-width:4; stroke-opacity:1; fill:none\" points=\"\n  1504.99,759.247 1504.99,1445.72 1626.3,1445.72 1626.3,759.247 1504.99,759.247 \n  \"/>\n<path clip-path=\"url(#clip962)\" d=\"\nM1626.3 1445.72 L1626.3 1445.72 L1747.6 1445.72 L1747.6 1445.72 L1626.3 1445.72 L1626.3 1445.72  Z\n  \" fill=\"#009af9\" fill-rule=\"evenodd\" fill-opacity=\"1\"/>\n<polyline clip-path=\"url(#clip962)\" style=\"stroke:#000000; stroke-linecap:butt; stroke-linejoin:round; stroke-width:4; stroke-opacity:1; fill:none\" points=\"\n  1626.3,1445.72 1626.3,1445.72 1747.6,1445.72 1626.3,1445.72 \n  \"/>\n<path clip-path=\"url(#clip962)\" d=\"\nM1747.6 1445.72 L1747.6 1445.72 L1868.9 1445.72 L1868.9 1445.72 L1747.6 1445.72 L1747.6 1445.72  Z\n  \" fill=\"#009af9\" fill-rule=\"evenodd\" fill-opacity=\"1\"/>\n<polyline clip-path=\"url(#clip962)\" style=\"stroke:#000000; stroke-linecap:butt; stroke-linejoin:round; stroke-width:4; stroke-opacity:1; fill:none\" points=\"\n  1747.6,1445.72 1747.6,1445.72 1868.9,1445.72 1747.6,1445.72 \n  \"/>\n<path clip-path=\"url(#clip962)\" d=\"\nM1868.9 1445.72 L1868.9 1445.72 L1990.2 1445.72 L1990.2 1445.72 L1868.9 1445.72 L1868.9 1445.72  Z\n  \" fill=\"#009af9\" fill-rule=\"evenodd\" fill-opacity=\"1\"/>\n<polyline clip-path=\"url(#clip962)\" style=\"stroke:#000000; stroke-linecap:butt; stroke-linejoin:round; stroke-width:4; stroke-opacity:1; fill:none\" points=\"\n  1868.9,1445.72 1868.9,1445.72 1990.2,1445.72 1868.9,1445.72 \n  \"/>\n<path clip-path=\"url(#clip962)\" d=\"\nM1990.2 1445.72 L1990.2 1445.72 L2111.51 1445.72 L2111.51 1445.72 L1990.2 1445.72 L1990.2 1445.72  Z\n  \" fill=\"#009af9\" fill-rule=\"evenodd\" fill-opacity=\"1\"/>\n<polyline clip-path=\"url(#clip962)\" style=\"stroke:#000000; stroke-linecap:butt; stroke-linejoin:round; stroke-width:4; stroke-opacity:1; fill:none\" points=\"\n  1990.2,1445.72 1990.2,1445.72 2111.51,1445.72 1990.2,1445.72 \n  \"/>\n<path clip-path=\"url(#clip962)\" d=\"\nM2111.51 87.9763 L2111.51 1445.72 L2232.81 1445.72 L2232.81 87.9763 L2111.51 87.9763 L2111.51 87.9763  Z\n  \" fill=\"#009af9\" fill-rule=\"evenodd\" fill-opacity=\"1\"/>\n<polyline clip-path=\"url(#clip962)\" style=\"stroke:#000000; stroke-linecap:butt; stroke-linejoin:round; stroke-width:4; stroke-opacity:1; fill:none\" points=\"\n  2111.51,87.9763 2111.51,1445.72 2232.81,1445.72 2232.81,87.9763 2111.51,87.9763 \n  \"/>\n<circle clip-path=\"url(#clip962)\" style=\"fill:#009af9; stroke:none; fill-opacity:0\" cx=\"352.611\" cy=\"1270.93\" r=\"2\"/>\n<circle clip-path=\"url(#clip962)\" style=\"fill:#009af9; stroke:none; fill-opacity:0\" cx=\"473.914\" cy=\"1445.72\" r=\"2\"/>\n<circle clip-path=\"url(#clip962)\" style=\"fill:#009af9; stroke:none; fill-opacity:0\" cx=\"595.218\" cy=\"1445.72\" r=\"2\"/>\n<circle clip-path=\"url(#clip962)\" style=\"fill:#009af9; stroke:none; fill-opacity:0\" cx=\"716.521\" cy=\"1445.72\" r=\"2\"/>\n<circle clip-path=\"url(#clip962)\" style=\"fill:#009af9; stroke:none; fill-opacity:0\" cx=\"837.824\" cy=\"1445.72\" r=\"2\"/>\n<circle clip-path=\"url(#clip962)\" style=\"fill:#009af9; stroke:none; fill-opacity:0\" cx=\"959.127\" cy=\"1131.61\" r=\"2\"/>\n<circle clip-path=\"url(#clip962)\" style=\"fill:#009af9; stroke:none; fill-opacity:0\" cx=\"1080.43\" cy=\"1445.72\" r=\"2\"/>\n<circle clip-path=\"url(#clip962)\" style=\"fill:#009af9; stroke:none; fill-opacity:0\" cx=\"1201.73\" cy=\"1445.72\" r=\"2\"/>\n<circle clip-path=\"url(#clip962)\" style=\"fill:#009af9; stroke:none; fill-opacity:0\" cx=\"1323.04\" cy=\"1445.72\" r=\"2\"/>\n<circle clip-path=\"url(#clip962)\" style=\"fill:#009af9; stroke:none; fill-opacity:0\" cx=\"1444.34\" cy=\"1445.72\" r=\"2\"/>\n<circle clip-path=\"url(#clip962)\" style=\"fill:#009af9; stroke:none; fill-opacity:0\" cx=\"1565.64\" cy=\"759.247\" r=\"2\"/>\n<circle clip-path=\"url(#clip962)\" style=\"fill:#009af9; stroke:none; fill-opacity:0\" cx=\"1686.95\" cy=\"1445.72\" r=\"2\"/>\n<circle clip-path=\"url(#clip962)\" style=\"fill:#009af9; stroke:none; fill-opacity:0\" cx=\"1808.25\" cy=\"1445.72\" r=\"2\"/>\n<circle clip-path=\"url(#clip962)\" style=\"fill:#009af9; stroke:none; fill-opacity:0\" cx=\"1929.55\" cy=\"1445.72\" r=\"2\"/>\n<circle clip-path=\"url(#clip962)\" style=\"fill:#009af9; stroke:none; fill-opacity:0\" cx=\"2050.86\" cy=\"1445.72\" r=\"2\"/>\n<circle clip-path=\"url(#clip962)\" style=\"fill:#009af9; stroke:none; fill-opacity:0\" cx=\"2172.16\" cy=\"87.9763\" r=\"2\"/>\n<path clip-path=\"url(#clip960)\" d=\"\nM1985.33 198.898 L2280.06 198.898 L2280.06 95.2176 L1985.33 95.2176  Z\n  \" fill=\"#ffffff\" fill-rule=\"evenodd\" fill-opacity=\"1\"/>\n<polyline clip-path=\"url(#clip960)\" style=\"stroke:#000000; stroke-linecap:butt; stroke-linejoin:round; stroke-width:4; stroke-opacity:1; fill:none\" points=\"\n  1985.33,198.898 2280.06,198.898 2280.06,95.2176 1985.33,95.2176 1985.33,198.898 \n  \"/>\n<path clip-path=\"url(#clip960)\" d=\"\nM2009.56 167.794 L2154.94 167.794 L2154.94 126.322 L2009.56 126.322 L2009.56 167.794  Z\n  \" fill=\"#009af9\" fill-rule=\"evenodd\" fill-opacity=\"1\"/>\n<polyline clip-path=\"url(#clip960)\" style=\"stroke:#000000; stroke-linecap:butt; stroke-linejoin:round; stroke-width:4; stroke-opacity:1; fill:none\" points=\"\n  2009.56,167.794 2154.94,167.794 2154.94,126.322 2009.56,126.322 2009.56,167.794 \n  \"/>\n<path clip-path=\"url(#clip960)\" d=\"M2193.02 166.745 Q2191.21 171.375 2189.5 172.787 Q2187.78 174.199 2184.91 174.199 L2181.51 174.199 L2181.51 170.634 L2184.01 170.634 Q2185.77 170.634 2186.74 169.8 Q2187.71 168.967 2188.9 165.865 L2189.66 163.921 L2179.17 138.412 L2183.69 138.412 L2191.79 158.689 L2199.89 138.412 L2204.4 138.412 L2193.02 166.745 Z\" fill=\"#000000\" fill-rule=\"evenodd\" fill-opacity=\"1\" /><path clip-path=\"url(#clip960)\" d=\"M2211.7 160.402 L2219.34 160.402 L2219.34 134.037 L2211.03 135.703 L2211.03 131.444 L2219.29 129.778 L2223.96 129.778 L2223.96 160.402 L2231.6 160.402 L2231.6 164.338 L2211.7 164.338 L2211.7 160.402 Z\" fill=\"#000000\" fill-rule=\"evenodd\" fill-opacity=\"1\" /></svg>\n",
      "text/html": [
       "<?xml version=\"1.0\" encoding=\"utf-8\"?>\n",
       "<svg xmlns=\"http://www.w3.org/2000/svg\" xmlns:xlink=\"http://www.w3.org/1999/xlink\" width=\"600\" height=\"400\" viewBox=\"0 0 2400 1600\">\n",
       "<defs>\n",
       "  <clipPath id=\"clip010\">\n",
       "    <rect x=\"0\" y=\"0\" width=\"2400\" height=\"1600\"/>\n",
       "  </clipPath>\n",
       "</defs>\n",
       "<path clip-path=\"url(#clip010)\" d=\"\n",
       "M0 1600 L2400 1600 L2400 0 L0 0  Z\n",
       "  \" fill=\"#ffffff\" fill-rule=\"evenodd\" fill-opacity=\"1\"/>\n",
       "<defs>\n",
       "  <clipPath id=\"clip011\">\n",
       "    <rect x=\"480\" y=\"0\" width=\"1681\" height=\"1600\"/>\n",
       "  </clipPath>\n",
       "</defs>\n",
       "<path clip-path=\"url(#clip010)\" d=\"\n",
       "M172.015 1486.45 L2352.76 1486.45 L2352.76 47.2441 L172.015 47.2441  Z\n",
       "  \" fill=\"#ffffff\" fill-rule=\"evenodd\" fill-opacity=\"1\"/>\n",
       "<defs>\n",
       "  <clipPath id=\"clip012\">\n",
       "    <rect x=\"172\" y=\"47\" width=\"2182\" height=\"1440\"/>\n",
       "  </clipPath>\n",
       "</defs>\n",
       "<polyline clip-path=\"url(#clip012)\" style=\"stroke:#000000; stroke-linecap:butt; stroke-linejoin:round; stroke-width:2; stroke-opacity:0.1; fill:none\" points=\"\n",
       "  291.959,1486.45 291.959,47.2441 \n",
       "  \"/>\n",
       "<polyline clip-path=\"url(#clip012)\" style=\"stroke:#000000; stroke-linecap:butt; stroke-linejoin:round; stroke-width:2; stroke-opacity:0.1; fill:none\" points=\"\n",
       "  898.476,1486.45 898.476,47.2441 \n",
       "  \"/>\n",
       "<polyline clip-path=\"url(#clip012)\" style=\"stroke:#000000; stroke-linecap:butt; stroke-linejoin:round; stroke-width:2; stroke-opacity:0.1; fill:none\" points=\"\n",
       "  1504.99,1486.45 1504.99,47.2441 \n",
       "  \"/>\n",
       "<polyline clip-path=\"url(#clip012)\" style=\"stroke:#000000; stroke-linecap:butt; stroke-linejoin:round; stroke-width:2; stroke-opacity:0.1; fill:none\" points=\"\n",
       "  2111.51,1486.45 2111.51,47.2441 \n",
       "  \"/>\n",
       "<polyline clip-path=\"url(#clip010)\" style=\"stroke:#000000; stroke-linecap:butt; stroke-linejoin:round; stroke-width:4; stroke-opacity:1; fill:none\" points=\"\n",
       "  172.015,1486.45 2352.76,1486.45 \n",
       "  \"/>\n",
       "<polyline clip-path=\"url(#clip010)\" style=\"stroke:#000000; stroke-linecap:butt; stroke-linejoin:round; stroke-width:4; stroke-opacity:1; fill:none\" points=\"\n",
       "  291.959,1486.45 291.959,1467.55 \n",
       "  \"/>\n",
       "<polyline clip-path=\"url(#clip010)\" style=\"stroke:#000000; stroke-linecap:butt; stroke-linejoin:round; stroke-width:4; stroke-opacity:1; fill:none\" points=\"\n",
       "  898.476,1486.45 898.476,1467.55 \n",
       "  \"/>\n",
       "<polyline clip-path=\"url(#clip010)\" style=\"stroke:#000000; stroke-linecap:butt; stroke-linejoin:round; stroke-width:4; stroke-opacity:1; fill:none\" points=\"\n",
       "  1504.99,1486.45 1504.99,1467.55 \n",
       "  \"/>\n",
       "<polyline clip-path=\"url(#clip010)\" style=\"stroke:#000000; stroke-linecap:butt; stroke-linejoin:round; stroke-width:4; stroke-opacity:1; fill:none\" points=\"\n",
       "  2111.51,1486.45 2111.51,1467.55 \n",
       "  \"/>\n",
       "<path clip-path=\"url(#clip010)\" d=\"M282.341 1544.91 L289.98 1544.91 L289.98 1518.55 L281.67 1520.21 L281.67 1515.95 L289.934 1514.29 L294.61 1514.29 L294.61 1544.91 L302.249 1544.91 L302.249 1548.85 L282.341 1548.85 L282.341 1544.91 Z\" fill=\"#000000\" fill-rule=\"evenodd\" fill-opacity=\"1\" /><path clip-path=\"url(#clip010)\" d=\"M893.128 1544.91 L909.448 1544.91 L909.448 1548.85 L887.503 1548.85 L887.503 1544.91 Q890.166 1542.16 894.749 1537.53 Q899.355 1532.88 900.536 1531.53 Q902.781 1529.01 903.661 1527.27 Q904.564 1525.51 904.564 1523.82 Q904.564 1521.07 902.619 1519.33 Q900.698 1517.6 897.596 1517.6 Q895.397 1517.6 892.943 1518.36 Q890.513 1519.13 887.735 1520.68 L887.735 1515.95 Q890.559 1514.82 893.013 1514.24 Q895.466 1513.66 897.503 1513.66 Q902.874 1513.66 906.068 1516.35 Q909.263 1519.03 909.263 1523.52 Q909.263 1525.65 908.452 1527.57 Q907.665 1529.47 905.559 1532.07 Q904.98 1532.74 901.878 1535.95 Q898.777 1539.15 893.128 1544.91 Z\" fill=\"#000000\" fill-rule=\"evenodd\" fill-opacity=\"1\" /><path clip-path=\"url(#clip010)\" d=\"M1509.24 1530.21 Q1512.6 1530.93 1514.47 1533.2 Q1516.37 1535.47 1516.37 1538.8 Q1516.37 1543.92 1512.85 1546.72 Q1509.33 1549.52 1502.85 1549.52 Q1500.67 1549.52 1498.36 1549.08 Q1496.07 1548.66 1493.61 1547.81 L1493.61 1543.29 Q1495.56 1544.43 1497.87 1545.01 Q1500.19 1545.58 1502.71 1545.58 Q1507.11 1545.58 1509.4 1543.85 Q1511.72 1542.11 1511.72 1538.8 Q1511.72 1535.75 1509.56 1534.03 Q1507.43 1532.3 1503.61 1532.3 L1499.59 1532.3 L1499.59 1528.45 L1503.8 1528.45 Q1507.25 1528.45 1509.08 1527.09 Q1510.91 1525.7 1510.91 1523.11 Q1510.91 1520.45 1509.01 1519.03 Q1507.13 1517.6 1503.61 1517.6 Q1501.69 1517.6 1499.49 1518.01 Q1497.3 1518.43 1494.66 1519.31 L1494.66 1515.14 Q1497.32 1514.4 1499.63 1514.03 Q1501.97 1513.66 1504.03 1513.66 Q1509.36 1513.66 1512.46 1516.09 Q1515.56 1518.5 1515.56 1522.62 Q1515.56 1525.49 1513.92 1527.48 Q1512.27 1529.45 1509.24 1530.21 Z\" fill=\"#000000\" fill-rule=\"evenodd\" fill-opacity=\"1\" /><path clip-path=\"url(#clip010)\" d=\"M2114.52 1518.36 L2102.71 1536.81 L2114.52 1536.81 L2114.52 1518.36 M2113.29 1514.29 L2119.17 1514.29 L2119.17 1536.81 L2124.1 1536.81 L2124.1 1540.7 L2119.17 1540.7 L2119.17 1548.85 L2114.52 1548.85 L2114.52 1540.7 L2098.92 1540.7 L2098.92 1536.19 L2113.29 1514.29 Z\" fill=\"#000000\" fill-rule=\"evenodd\" fill-opacity=\"1\" /><polyline clip-path=\"url(#clip012)\" style=\"stroke:#000000; stroke-linecap:butt; stroke-linejoin:round; stroke-width:2; stroke-opacity:0.1; fill:none\" points=\"\n",
       "  172.015,1445.72 2352.76,1445.72 \n",
       "  \"/>\n",
       "<polyline clip-path=\"url(#clip012)\" style=\"stroke:#000000; stroke-linecap:butt; stroke-linejoin:round; stroke-width:2; stroke-opacity:0.1; fill:none\" points=\"\n",
       "  172.015,1192.41 2352.76,1192.41 \n",
       "  \"/>\n",
       "<polyline clip-path=\"url(#clip012)\" style=\"stroke:#000000; stroke-linecap:butt; stroke-linejoin:round; stroke-width:2; stroke-opacity:0.1; fill:none\" points=\"\n",
       "  172.015,939.097 2352.76,939.097 \n",
       "  \"/>\n",
       "<polyline clip-path=\"url(#clip012)\" style=\"stroke:#000000; stroke-linecap:butt; stroke-linejoin:round; stroke-width:2; stroke-opacity:0.1; fill:none\" points=\"\n",
       "  172.015,685.787 2352.76,685.787 \n",
       "  \"/>\n",
       "<polyline clip-path=\"url(#clip012)\" style=\"stroke:#000000; stroke-linecap:butt; stroke-linejoin:round; stroke-width:2; stroke-opacity:0.1; fill:none\" points=\"\n",
       "  172.015,432.477 2352.76,432.477 \n",
       "  \"/>\n",
       "<polyline clip-path=\"url(#clip012)\" style=\"stroke:#000000; stroke-linecap:butt; stroke-linejoin:round; stroke-width:2; stroke-opacity:0.1; fill:none\" points=\"\n",
       "  172.015,179.168 2352.76,179.168 \n",
       "  \"/>\n",
       "<polyline clip-path=\"url(#clip010)\" style=\"stroke:#000000; stroke-linecap:butt; stroke-linejoin:round; stroke-width:4; stroke-opacity:1; fill:none\" points=\"\n",
       "  172.015,1486.45 172.015,47.2441 \n",
       "  \"/>\n",
       "<polyline clip-path=\"url(#clip010)\" style=\"stroke:#000000; stroke-linecap:butt; stroke-linejoin:round; stroke-width:4; stroke-opacity:1; fill:none\" points=\"\n",
       "  172.015,1445.72 190.912,1445.72 \n",
       "  \"/>\n",
       "<polyline clip-path=\"url(#clip010)\" style=\"stroke:#000000; stroke-linecap:butt; stroke-linejoin:round; stroke-width:4; stroke-opacity:1; fill:none\" points=\"\n",
       "  172.015,1192.41 190.912,1192.41 \n",
       "  \"/>\n",
       "<polyline clip-path=\"url(#clip010)\" style=\"stroke:#000000; stroke-linecap:butt; stroke-linejoin:round; stroke-width:4; stroke-opacity:1; fill:none\" points=\"\n",
       "  172.015,939.097 190.912,939.097 \n",
       "  \"/>\n",
       "<polyline clip-path=\"url(#clip010)\" style=\"stroke:#000000; stroke-linecap:butt; stroke-linejoin:round; stroke-width:4; stroke-opacity:1; fill:none\" points=\"\n",
       "  172.015,685.787 190.912,685.787 \n",
       "  \"/>\n",
       "<polyline clip-path=\"url(#clip010)\" style=\"stroke:#000000; stroke-linecap:butt; stroke-linejoin:round; stroke-width:4; stroke-opacity:1; fill:none\" points=\"\n",
       "  172.015,432.477 190.912,432.477 \n",
       "  \"/>\n",
       "<polyline clip-path=\"url(#clip010)\" style=\"stroke:#000000; stroke-linecap:butt; stroke-linejoin:round; stroke-width:4; stroke-opacity:1; fill:none\" points=\"\n",
       "  172.015,179.168 190.912,179.168 \n",
       "  \"/>\n",
       "<path clip-path=\"url(#clip010)\" d=\"M124.07 1431.51 Q120.459 1431.51 118.631 1435.08 Q116.825 1438.62 116.825 1445.75 Q116.825 1452.86 118.631 1456.42 Q120.459 1459.96 124.07 1459.96 Q127.705 1459.96 129.51 1456.42 Q131.339 1452.86 131.339 1445.75 Q131.339 1438.62 129.51 1435.08 Q127.705 1431.51 124.07 1431.51 M124.07 1427.81 Q129.881 1427.81 132.936 1432.42 Q136.015 1437 136.015 1445.75 Q136.015 1454.48 132.936 1459.08 Q129.881 1463.67 124.07 1463.67 Q118.26 1463.67 115.182 1459.08 Q112.126 1454.48 112.126 1445.75 Q112.126 1437 115.182 1432.42 Q118.26 1427.81 124.07 1427.81 Z\" fill=\"#000000\" fill-rule=\"evenodd\" fill-opacity=\"1\" /><path clip-path=\"url(#clip010)\" d=\"M54.5569 1205.75 L62.1958 1205.75 L62.1958 1179.39 L53.8856 1181.05 L53.8856 1176.79 L62.1495 1175.13 L66.8254 1175.13 L66.8254 1205.75 L74.4642 1205.75 L74.4642 1209.69 L54.5569 1209.69 L54.5569 1205.75 Z\" fill=\"#000000\" fill-rule=\"evenodd\" fill-opacity=\"1\" /><path clip-path=\"url(#clip010)\" d=\"M93.9086 1178.2 Q90.2975 1178.2 88.4688 1181.77 Q86.6632 1185.31 86.6632 1192.44 Q86.6632 1199.55 88.4688 1203.11 Q90.2975 1206.65 93.9086 1206.65 Q97.5428 1206.65 99.3483 1203.11 Q101.177 1199.55 101.177 1192.44 Q101.177 1185.31 99.3483 1181.77 Q97.5428 1178.2 93.9086 1178.2 M93.9086 1174.5 Q99.7187 1174.5 102.774 1179.11 Q105.853 1183.69 105.853 1192.44 Q105.853 1201.17 102.774 1205.77 Q99.7187 1210.36 93.9086 1210.36 Q88.0984 1210.36 85.0197 1205.77 Q81.9642 1201.17 81.9642 1192.44 Q81.9642 1183.69 85.0197 1179.11 Q88.0984 1174.5 93.9086 1174.5 Z\" fill=\"#000000\" fill-rule=\"evenodd\" fill-opacity=\"1\" /><path clip-path=\"url(#clip010)\" d=\"M124.07 1178.2 Q120.459 1178.2 118.631 1181.77 Q116.825 1185.31 116.825 1192.44 Q116.825 1199.55 118.631 1203.11 Q120.459 1206.65 124.07 1206.65 Q127.705 1206.65 129.51 1203.11 Q131.339 1199.55 131.339 1192.44 Q131.339 1185.31 129.51 1181.77 Q127.705 1178.2 124.07 1178.2 M124.07 1174.5 Q129.881 1174.5 132.936 1179.11 Q136.015 1183.69 136.015 1192.44 Q136.015 1201.17 132.936 1205.77 Q129.881 1210.36 124.07 1210.36 Q118.26 1210.36 115.182 1205.77 Q112.126 1201.17 112.126 1192.44 Q112.126 1183.69 115.182 1179.11 Q118.26 1174.5 124.07 1174.5 Z\" fill=\"#000000\" fill-rule=\"evenodd\" fill-opacity=\"1\" /><path clip-path=\"url(#clip010)\" d=\"M57.7745 952.441 L74.0939 952.441 L74.0939 956.377 L52.1495 956.377 L52.1495 952.441 Q54.8115 949.687 59.3949 945.057 Q64.0013 940.404 65.1819 939.062 Q67.4272 936.539 68.3068 934.803 Q69.2096 933.043 69.2096 931.353 Q69.2096 928.599 67.2652 926.863 Q65.3439 925.127 62.2421 925.127 Q60.043 925.127 57.5893 925.891 Q55.1588 926.654 52.381 928.205 L52.381 923.483 Q55.2051 922.349 57.6588 921.77 Q60.1124 921.192 62.1495 921.192 Q67.5198 921.192 70.7142 923.877 Q73.9087 926.562 73.9087 931.053 Q73.9087 933.182 73.0985 935.103 Q72.3115 937.002 70.205 939.594 Q69.6263 940.265 66.5245 943.483 Q63.4226 946.677 57.7745 952.441 Z\" fill=\"#000000\" fill-rule=\"evenodd\" fill-opacity=\"1\" /><path clip-path=\"url(#clip010)\" d=\"M93.9086 924.895 Q90.2975 924.895 88.4688 928.46 Q86.6632 932.002 86.6632 939.131 Q86.6632 946.238 88.4688 949.802 Q90.2975 953.344 93.9086 953.344 Q97.5428 953.344 99.3483 949.802 Q101.177 946.238 101.177 939.131 Q101.177 932.002 99.3483 928.46 Q97.5428 924.895 93.9086 924.895 M93.9086 921.192 Q99.7187 921.192 102.774 925.798 Q105.853 930.381 105.853 939.131 Q105.853 947.858 102.774 952.464 Q99.7187 957.048 93.9086 957.048 Q88.0984 957.048 85.0197 952.464 Q81.9642 947.858 81.9642 939.131 Q81.9642 930.381 85.0197 925.798 Q88.0984 921.192 93.9086 921.192 Z\" fill=\"#000000\" fill-rule=\"evenodd\" fill-opacity=\"1\" /><path clip-path=\"url(#clip010)\" d=\"M124.07 924.895 Q120.459 924.895 118.631 928.46 Q116.825 932.002 116.825 939.131 Q116.825 946.238 118.631 949.802 Q120.459 953.344 124.07 953.344 Q127.705 953.344 129.51 949.802 Q131.339 946.238 131.339 939.131 Q131.339 932.002 129.51 928.46 Q127.705 924.895 124.07 924.895 M124.07 921.192 Q129.881 921.192 132.936 925.798 Q136.015 930.381 136.015 939.131 Q136.015 947.858 132.936 952.464 Q129.881 957.048 124.07 957.048 Q118.26 957.048 115.182 952.464 Q112.126 947.858 112.126 939.131 Q112.126 930.381 115.182 925.798 Q118.26 921.192 124.07 921.192 Z\" fill=\"#000000\" fill-rule=\"evenodd\" fill-opacity=\"1\" /><path clip-path=\"url(#clip010)\" d=\"M67.9133 684.433 Q71.2698 685.15 73.1448 687.419 Q75.0429 689.687 75.0429 693.021 Q75.0429 698.136 71.5244 700.937 Q68.0059 703.738 61.5245 703.738 Q59.3486 703.738 57.0338 703.298 Q54.7421 702.882 52.2884 702.025 L52.2884 697.511 Q54.2328 698.646 56.5477 699.224 Q58.8625 699.803 61.3856 699.803 Q65.7837 699.803 68.0754 698.067 Q70.3902 696.331 70.3902 693.021 Q70.3902 689.965 68.2374 688.252 Q66.1078 686.516 62.2884 686.516 L58.2606 686.516 L58.2606 682.674 L62.4735 682.674 Q65.9226 682.674 67.7513 681.308 Q69.58 679.919 69.58 677.326 Q69.58 674.664 67.6819 673.252 Q65.8069 671.817 62.2884 671.817 Q60.3671 671.817 58.168 672.234 Q55.969 672.65 53.3301 673.53 L53.3301 669.363 Q55.9921 668.623 58.3069 668.252 Q60.6449 667.882 62.705 667.882 Q68.0291 667.882 71.1309 670.312 Q74.2327 672.72 74.2327 676.84 Q74.2327 679.711 72.5892 681.701 Q70.9457 683.669 67.9133 684.433 Z\" fill=\"#000000\" fill-rule=\"evenodd\" fill-opacity=\"1\" /><path clip-path=\"url(#clip010)\" d=\"M93.9086 671.586 Q90.2975 671.586 88.4688 675.15 Q86.6632 678.692 86.6632 685.822 Q86.6632 692.928 88.4688 696.493 Q90.2975 700.035 93.9086 700.035 Q97.5428 700.035 99.3483 696.493 Q101.177 692.928 101.177 685.822 Q101.177 678.692 99.3483 675.15 Q97.5428 671.586 93.9086 671.586 M93.9086 667.882 Q99.7187 667.882 102.774 672.488 Q105.853 677.072 105.853 685.822 Q105.853 694.548 102.774 699.155 Q99.7187 703.738 93.9086 703.738 Q88.0984 703.738 85.0197 699.155 Q81.9642 694.548 81.9642 685.822 Q81.9642 677.072 85.0197 672.488 Q88.0984 667.882 93.9086 667.882 Z\" fill=\"#000000\" fill-rule=\"evenodd\" fill-opacity=\"1\" /><path clip-path=\"url(#clip010)\" d=\"M124.07 671.586 Q120.459 671.586 118.631 675.15 Q116.825 678.692 116.825 685.822 Q116.825 692.928 118.631 696.493 Q120.459 700.035 124.07 700.035 Q127.705 700.035 129.51 696.493 Q131.339 692.928 131.339 685.822 Q131.339 678.692 129.51 675.15 Q127.705 671.586 124.07 671.586 M124.07 667.882 Q129.881 667.882 132.936 672.488 Q136.015 677.072 136.015 685.822 Q136.015 694.548 132.936 699.155 Q129.881 703.738 124.07 703.738 Q118.26 703.738 115.182 699.155 Q112.126 694.548 112.126 685.822 Q112.126 677.072 115.182 672.488 Q118.26 667.882 124.07 667.882 Z\" fill=\"#000000\" fill-rule=\"evenodd\" fill-opacity=\"1\" /><path clip-path=\"url(#clip010)\" d=\"M66.5939 419.271 L54.7884 437.72 L66.5939 437.72 L66.5939 419.271 M65.367 415.197 L71.2466 415.197 L71.2466 437.72 L76.1772 437.72 L76.1772 441.609 L71.2466 441.609 L71.2466 449.757 L66.5939 449.757 L66.5939 441.609 L50.9921 441.609 L50.9921 437.095 L65.367 415.197 Z\" fill=\"#000000\" fill-rule=\"evenodd\" fill-opacity=\"1\" /><path clip-path=\"url(#clip010)\" d=\"M93.9086 418.276 Q90.2975 418.276 88.4688 421.841 Q86.6632 425.382 86.6632 432.512 Q86.6632 439.618 88.4688 443.183 Q90.2975 446.725 93.9086 446.725 Q97.5428 446.725 99.3483 443.183 Q101.177 439.618 101.177 432.512 Q101.177 425.382 99.3483 421.841 Q97.5428 418.276 93.9086 418.276 M93.9086 414.572 Q99.7187 414.572 102.774 419.179 Q105.853 423.762 105.853 432.512 Q105.853 441.239 102.774 445.845 Q99.7187 450.429 93.9086 450.429 Q88.0984 450.429 85.0197 445.845 Q81.9642 441.239 81.9642 432.512 Q81.9642 423.762 85.0197 419.179 Q88.0984 414.572 93.9086 414.572 Z\" fill=\"#000000\" fill-rule=\"evenodd\" fill-opacity=\"1\" /><path clip-path=\"url(#clip010)\" d=\"M124.07 418.276 Q120.459 418.276 118.631 421.841 Q116.825 425.382 116.825 432.512 Q116.825 439.618 118.631 443.183 Q120.459 446.725 124.07 446.725 Q127.705 446.725 129.51 443.183 Q131.339 439.618 131.339 432.512 Q131.339 425.382 129.51 421.841 Q127.705 418.276 124.07 418.276 M124.07 414.572 Q129.881 414.572 132.936 419.179 Q136.015 423.762 136.015 432.512 Q136.015 441.239 132.936 445.845 Q129.881 450.429 124.07 450.429 Q118.26 450.429 115.182 445.845 Q112.126 441.239 112.126 432.512 Q112.126 423.762 115.182 419.179 Q118.26 414.572 124.07 414.572 Z\" fill=\"#000000\" fill-rule=\"evenodd\" fill-opacity=\"1\" /><path clip-path=\"url(#clip010)\" d=\"M53.793 161.888 L72.1494 161.888 L72.1494 165.823 L58.0754 165.823 L58.0754 174.295 Q59.0939 173.948 60.1124 173.786 Q61.131 173.601 62.1495 173.601 Q67.9365 173.601 71.3161 176.772 Q74.6957 179.943 74.6957 185.36 Q74.6957 190.939 71.2235 194.04 Q67.7513 197.119 61.4319 197.119 Q59.256 197.119 56.9875 196.749 Q54.7421 196.378 52.3347 195.638 L52.3347 190.939 Q54.418 192.073 56.6402 192.628 Q58.8625 193.184 61.3393 193.184 Q65.3439 193.184 67.6819 191.077 Q70.0198 188.971 70.0198 185.36 Q70.0198 181.749 67.6819 179.642 Q65.3439 177.536 61.3393 177.536 Q59.4643 177.536 57.5893 177.952 Q55.7375 178.369 53.793 179.249 L53.793 161.888 Z\" fill=\"#000000\" fill-rule=\"evenodd\" fill-opacity=\"1\" /><path clip-path=\"url(#clip010)\" d=\"M93.9086 164.966 Q90.2975 164.966 88.4688 168.531 Q86.6632 172.073 86.6632 179.202 Q86.6632 186.309 88.4688 189.874 Q90.2975 193.415 93.9086 193.415 Q97.5428 193.415 99.3483 189.874 Q101.177 186.309 101.177 179.202 Q101.177 172.073 99.3483 168.531 Q97.5428 164.966 93.9086 164.966 M93.9086 161.263 Q99.7187 161.263 102.774 165.869 Q105.853 170.452 105.853 179.202 Q105.853 187.929 102.774 192.536 Q99.7187 197.119 93.9086 197.119 Q88.0984 197.119 85.0197 192.536 Q81.9642 187.929 81.9642 179.202 Q81.9642 170.452 85.0197 165.869 Q88.0984 161.263 93.9086 161.263 Z\" fill=\"#000000\" fill-rule=\"evenodd\" fill-opacity=\"1\" /><path clip-path=\"url(#clip010)\" d=\"M124.07 164.966 Q120.459 164.966 118.631 168.531 Q116.825 172.073 116.825 179.202 Q116.825 186.309 118.631 189.874 Q120.459 193.415 124.07 193.415 Q127.705 193.415 129.51 189.874 Q131.339 186.309 131.339 179.202 Q131.339 172.073 129.51 168.531 Q127.705 164.966 124.07 164.966 M124.07 161.263 Q129.881 161.263 132.936 165.869 Q136.015 170.452 136.015 179.202 Q136.015 187.929 132.936 192.536 Q129.881 197.119 124.07 197.119 Q118.26 197.119 115.182 192.536 Q112.126 187.929 112.126 179.202 Q112.126 170.452 115.182 165.869 Q118.26 161.263 124.07 161.263 Z\" fill=\"#000000\" fill-rule=\"evenodd\" fill-opacity=\"1\" /><path clip-path=\"url(#clip012)\" d=\"\n",
       "M291.959 1270.93 L291.959 1445.72 L413.263 1445.72 L413.263 1270.93 L291.959 1270.93 L291.959 1270.93  Z\n",
       "  \" fill=\"#009af9\" fill-rule=\"evenodd\" fill-opacity=\"1\"/>\n",
       "<polyline clip-path=\"url(#clip012)\" style=\"stroke:#000000; stroke-linecap:butt; stroke-linejoin:round; stroke-width:4; stroke-opacity:1; fill:none\" points=\"\n",
       "  291.959,1270.93 291.959,1445.72 413.263,1445.72 413.263,1270.93 291.959,1270.93 \n",
       "  \"/>\n",
       "<path clip-path=\"url(#clip012)\" d=\"\n",
       "M413.263 1445.72 L413.263 1445.72 L534.566 1445.72 L534.566 1445.72 L413.263 1445.72 L413.263 1445.72  Z\n",
       "  \" fill=\"#009af9\" fill-rule=\"evenodd\" fill-opacity=\"1\"/>\n",
       "<polyline clip-path=\"url(#clip012)\" style=\"stroke:#000000; stroke-linecap:butt; stroke-linejoin:round; stroke-width:4; stroke-opacity:1; fill:none\" points=\"\n",
       "  413.263,1445.72 413.263,1445.72 534.566,1445.72 413.263,1445.72 \n",
       "  \"/>\n",
       "<path clip-path=\"url(#clip012)\" d=\"\n",
       "M534.566 1445.72 L534.566 1445.72 L655.869 1445.72 L655.869 1445.72 L534.566 1445.72 L534.566 1445.72  Z\n",
       "  \" fill=\"#009af9\" fill-rule=\"evenodd\" fill-opacity=\"1\"/>\n",
       "<polyline clip-path=\"url(#clip012)\" style=\"stroke:#000000; stroke-linecap:butt; stroke-linejoin:round; stroke-width:4; stroke-opacity:1; fill:none\" points=\"\n",
       "  534.566,1445.72 534.566,1445.72 655.869,1445.72 534.566,1445.72 \n",
       "  \"/>\n",
       "<path clip-path=\"url(#clip012)\" d=\"\n",
       "M655.869 1445.72 L655.869 1445.72 L777.172 1445.72 L777.172 1445.72 L655.869 1445.72 L655.869 1445.72  Z\n",
       "  \" fill=\"#009af9\" fill-rule=\"evenodd\" fill-opacity=\"1\"/>\n",
       "<polyline clip-path=\"url(#clip012)\" style=\"stroke:#000000; stroke-linecap:butt; stroke-linejoin:round; stroke-width:4; stroke-opacity:1; fill:none\" points=\"\n",
       "  655.869,1445.72 655.869,1445.72 777.172,1445.72 655.869,1445.72 \n",
       "  \"/>\n",
       "<path clip-path=\"url(#clip012)\" d=\"\n",
       "M777.172 1445.72 L777.172 1445.72 L898.476 1445.72 L898.476 1445.72 L777.172 1445.72 L777.172 1445.72  Z\n",
       "  \" fill=\"#009af9\" fill-rule=\"evenodd\" fill-opacity=\"1\"/>\n",
       "<polyline clip-path=\"url(#clip012)\" style=\"stroke:#000000; stroke-linecap:butt; stroke-linejoin:round; stroke-width:4; stroke-opacity:1; fill:none\" points=\"\n",
       "  777.172,1445.72 777.172,1445.72 898.476,1445.72 777.172,1445.72 \n",
       "  \"/>\n",
       "<path clip-path=\"url(#clip012)\" d=\"\n",
       "M898.476 1131.61 L898.476 1445.72 L1019.78 1445.72 L1019.78 1131.61 L898.476 1131.61 L898.476 1131.61  Z\n",
       "  \" fill=\"#009af9\" fill-rule=\"evenodd\" fill-opacity=\"1\"/>\n",
       "<polyline clip-path=\"url(#clip012)\" style=\"stroke:#000000; stroke-linecap:butt; stroke-linejoin:round; stroke-width:4; stroke-opacity:1; fill:none\" points=\"\n",
       "  898.476,1131.61 898.476,1445.72 1019.78,1445.72 1019.78,1131.61 898.476,1131.61 \n",
       "  \"/>\n",
       "<path clip-path=\"url(#clip012)\" d=\"\n",
       "M1019.78 1445.72 L1019.78 1445.72 L1141.08 1445.72 L1141.08 1445.72 L1019.78 1445.72 L1019.78 1445.72  Z\n",
       "  \" fill=\"#009af9\" fill-rule=\"evenodd\" fill-opacity=\"1\"/>\n",
       "<polyline clip-path=\"url(#clip012)\" style=\"stroke:#000000; stroke-linecap:butt; stroke-linejoin:round; stroke-width:4; stroke-opacity:1; fill:none\" points=\"\n",
       "  1019.78,1445.72 1019.78,1445.72 1141.08,1445.72 1019.78,1445.72 \n",
       "  \"/>\n",
       "<path clip-path=\"url(#clip012)\" d=\"\n",
       "M1141.08 1445.72 L1141.08 1445.72 L1262.39 1445.72 L1262.39 1445.72 L1141.08 1445.72 L1141.08 1445.72  Z\n",
       "  \" fill=\"#009af9\" fill-rule=\"evenodd\" fill-opacity=\"1\"/>\n",
       "<polyline clip-path=\"url(#clip012)\" style=\"stroke:#000000; stroke-linecap:butt; stroke-linejoin:round; stroke-width:4; stroke-opacity:1; fill:none\" points=\"\n",
       "  1141.08,1445.72 1141.08,1445.72 1262.39,1445.72 1141.08,1445.72 \n",
       "  \"/>\n",
       "<path clip-path=\"url(#clip012)\" d=\"\n",
       "M1262.39 1445.72 L1262.39 1445.72 L1383.69 1445.72 L1383.69 1445.72 L1262.39 1445.72 L1262.39 1445.72  Z\n",
       "  \" fill=\"#009af9\" fill-rule=\"evenodd\" fill-opacity=\"1\"/>\n",
       "<polyline clip-path=\"url(#clip012)\" style=\"stroke:#000000; stroke-linecap:butt; stroke-linejoin:round; stroke-width:4; stroke-opacity:1; fill:none\" points=\"\n",
       "  1262.39,1445.72 1262.39,1445.72 1383.69,1445.72 1262.39,1445.72 \n",
       "  \"/>\n",
       "<path clip-path=\"url(#clip012)\" d=\"\n",
       "M1383.69 1445.72 L1383.69 1445.72 L1504.99 1445.72 L1504.99 1445.72 L1383.69 1445.72 L1383.69 1445.72  Z\n",
       "  \" fill=\"#009af9\" fill-rule=\"evenodd\" fill-opacity=\"1\"/>\n",
       "<polyline clip-path=\"url(#clip012)\" style=\"stroke:#000000; stroke-linecap:butt; stroke-linejoin:round; stroke-width:4; stroke-opacity:1; fill:none\" points=\"\n",
       "  1383.69,1445.72 1383.69,1445.72 1504.99,1445.72 1383.69,1445.72 \n",
       "  \"/>\n",
       "<path clip-path=\"url(#clip012)\" d=\"\n",
       "M1504.99 759.247 L1504.99 1445.72 L1626.3 1445.72 L1626.3 759.247 L1504.99 759.247 L1504.99 759.247  Z\n",
       "  \" fill=\"#009af9\" fill-rule=\"evenodd\" fill-opacity=\"1\"/>\n",
       "<polyline clip-path=\"url(#clip012)\" style=\"stroke:#000000; stroke-linecap:butt; stroke-linejoin:round; stroke-width:4; stroke-opacity:1; fill:none\" points=\"\n",
       "  1504.99,759.247 1504.99,1445.72 1626.3,1445.72 1626.3,759.247 1504.99,759.247 \n",
       "  \"/>\n",
       "<path clip-path=\"url(#clip012)\" d=\"\n",
       "M1626.3 1445.72 L1626.3 1445.72 L1747.6 1445.72 L1747.6 1445.72 L1626.3 1445.72 L1626.3 1445.72  Z\n",
       "  \" fill=\"#009af9\" fill-rule=\"evenodd\" fill-opacity=\"1\"/>\n",
       "<polyline clip-path=\"url(#clip012)\" style=\"stroke:#000000; stroke-linecap:butt; stroke-linejoin:round; stroke-width:4; stroke-opacity:1; fill:none\" points=\"\n",
       "  1626.3,1445.72 1626.3,1445.72 1747.6,1445.72 1626.3,1445.72 \n",
       "  \"/>\n",
       "<path clip-path=\"url(#clip012)\" d=\"\n",
       "M1747.6 1445.72 L1747.6 1445.72 L1868.9 1445.72 L1868.9 1445.72 L1747.6 1445.72 L1747.6 1445.72  Z\n",
       "  \" fill=\"#009af9\" fill-rule=\"evenodd\" fill-opacity=\"1\"/>\n",
       "<polyline clip-path=\"url(#clip012)\" style=\"stroke:#000000; stroke-linecap:butt; stroke-linejoin:round; stroke-width:4; stroke-opacity:1; fill:none\" points=\"\n",
       "  1747.6,1445.72 1747.6,1445.72 1868.9,1445.72 1747.6,1445.72 \n",
       "  \"/>\n",
       "<path clip-path=\"url(#clip012)\" d=\"\n",
       "M1868.9 1445.72 L1868.9 1445.72 L1990.2 1445.72 L1990.2 1445.72 L1868.9 1445.72 L1868.9 1445.72  Z\n",
       "  \" fill=\"#009af9\" fill-rule=\"evenodd\" fill-opacity=\"1\"/>\n",
       "<polyline clip-path=\"url(#clip012)\" style=\"stroke:#000000; stroke-linecap:butt; stroke-linejoin:round; stroke-width:4; stroke-opacity:1; fill:none\" points=\"\n",
       "  1868.9,1445.72 1868.9,1445.72 1990.2,1445.72 1868.9,1445.72 \n",
       "  \"/>\n",
       "<path clip-path=\"url(#clip012)\" d=\"\n",
       "M1990.2 1445.72 L1990.2 1445.72 L2111.51 1445.72 L2111.51 1445.72 L1990.2 1445.72 L1990.2 1445.72  Z\n",
       "  \" fill=\"#009af9\" fill-rule=\"evenodd\" fill-opacity=\"1\"/>\n",
       "<polyline clip-path=\"url(#clip012)\" style=\"stroke:#000000; stroke-linecap:butt; stroke-linejoin:round; stroke-width:4; stroke-opacity:1; fill:none\" points=\"\n",
       "  1990.2,1445.72 1990.2,1445.72 2111.51,1445.72 1990.2,1445.72 \n",
       "  \"/>\n",
       "<path clip-path=\"url(#clip012)\" d=\"\n",
       "M2111.51 87.9763 L2111.51 1445.72 L2232.81 1445.72 L2232.81 87.9763 L2111.51 87.9763 L2111.51 87.9763  Z\n",
       "  \" fill=\"#009af9\" fill-rule=\"evenodd\" fill-opacity=\"1\"/>\n",
       "<polyline clip-path=\"url(#clip012)\" style=\"stroke:#000000; stroke-linecap:butt; stroke-linejoin:round; stroke-width:4; stroke-opacity:1; fill:none\" points=\"\n",
       "  2111.51,87.9763 2111.51,1445.72 2232.81,1445.72 2232.81,87.9763 2111.51,87.9763 \n",
       "  \"/>\n",
       "<circle clip-path=\"url(#clip012)\" style=\"fill:#009af9; stroke:none; fill-opacity:0\" cx=\"352.611\" cy=\"1270.93\" r=\"2\"/>\n",
       "<circle clip-path=\"url(#clip012)\" style=\"fill:#009af9; stroke:none; fill-opacity:0\" cx=\"473.914\" cy=\"1445.72\" r=\"2\"/>\n",
       "<circle clip-path=\"url(#clip012)\" style=\"fill:#009af9; stroke:none; fill-opacity:0\" cx=\"595.218\" cy=\"1445.72\" r=\"2\"/>\n",
       "<circle clip-path=\"url(#clip012)\" style=\"fill:#009af9; stroke:none; fill-opacity:0\" cx=\"716.521\" cy=\"1445.72\" r=\"2\"/>\n",
       "<circle clip-path=\"url(#clip012)\" style=\"fill:#009af9; stroke:none; fill-opacity:0\" cx=\"837.824\" cy=\"1445.72\" r=\"2\"/>\n",
       "<circle clip-path=\"url(#clip012)\" style=\"fill:#009af9; stroke:none; fill-opacity:0\" cx=\"959.127\" cy=\"1131.61\" r=\"2\"/>\n",
       "<circle clip-path=\"url(#clip012)\" style=\"fill:#009af9; stroke:none; fill-opacity:0\" cx=\"1080.43\" cy=\"1445.72\" r=\"2\"/>\n",
       "<circle clip-path=\"url(#clip012)\" style=\"fill:#009af9; stroke:none; fill-opacity:0\" cx=\"1201.73\" cy=\"1445.72\" r=\"2\"/>\n",
       "<circle clip-path=\"url(#clip012)\" style=\"fill:#009af9; stroke:none; fill-opacity:0\" cx=\"1323.04\" cy=\"1445.72\" r=\"2\"/>\n",
       "<circle clip-path=\"url(#clip012)\" style=\"fill:#009af9; stroke:none; fill-opacity:0\" cx=\"1444.34\" cy=\"1445.72\" r=\"2\"/>\n",
       "<circle clip-path=\"url(#clip012)\" style=\"fill:#009af9; stroke:none; fill-opacity:0\" cx=\"1565.64\" cy=\"759.247\" r=\"2\"/>\n",
       "<circle clip-path=\"url(#clip012)\" style=\"fill:#009af9; stroke:none; fill-opacity:0\" cx=\"1686.95\" cy=\"1445.72\" r=\"2\"/>\n",
       "<circle clip-path=\"url(#clip012)\" style=\"fill:#009af9; stroke:none; fill-opacity:0\" cx=\"1808.25\" cy=\"1445.72\" r=\"2\"/>\n",
       "<circle clip-path=\"url(#clip012)\" style=\"fill:#009af9; stroke:none; fill-opacity:0\" cx=\"1929.55\" cy=\"1445.72\" r=\"2\"/>\n",
       "<circle clip-path=\"url(#clip012)\" style=\"fill:#009af9; stroke:none; fill-opacity:0\" cx=\"2050.86\" cy=\"1445.72\" r=\"2\"/>\n",
       "<circle clip-path=\"url(#clip012)\" style=\"fill:#009af9; stroke:none; fill-opacity:0\" cx=\"2172.16\" cy=\"87.9763\" r=\"2\"/>\n",
       "<path clip-path=\"url(#clip010)\" d=\"\n",
       "M1985.33 198.898 L2280.06 198.898 L2280.06 95.2176 L1985.33 95.2176  Z\n",
       "  \" fill=\"#ffffff\" fill-rule=\"evenodd\" fill-opacity=\"1\"/>\n",
       "<polyline clip-path=\"url(#clip010)\" style=\"stroke:#000000; stroke-linecap:butt; stroke-linejoin:round; stroke-width:4; stroke-opacity:1; fill:none\" points=\"\n",
       "  1985.33,198.898 2280.06,198.898 2280.06,95.2176 1985.33,95.2176 1985.33,198.898 \n",
       "  \"/>\n",
       "<path clip-path=\"url(#clip010)\" d=\"\n",
       "M2009.56 167.794 L2154.94 167.794 L2154.94 126.322 L2009.56 126.322 L2009.56 167.794  Z\n",
       "  \" fill=\"#009af9\" fill-rule=\"evenodd\" fill-opacity=\"1\"/>\n",
       "<polyline clip-path=\"url(#clip010)\" style=\"stroke:#000000; stroke-linecap:butt; stroke-linejoin:round; stroke-width:4; stroke-opacity:1; fill:none\" points=\"\n",
       "  2009.56,167.794 2154.94,167.794 2154.94,126.322 2009.56,126.322 2009.56,167.794 \n",
       "  \"/>\n",
       "<path clip-path=\"url(#clip010)\" d=\"M2193.02 166.745 Q2191.21 171.375 2189.5 172.787 Q2187.78 174.199 2184.91 174.199 L2181.51 174.199 L2181.51 170.634 L2184.01 170.634 Q2185.77 170.634 2186.74 169.8 Q2187.71 168.967 2188.9 165.865 L2189.66 163.921 L2179.17 138.412 L2183.69 138.412 L2191.79 158.689 L2199.89 138.412 L2204.4 138.412 L2193.02 166.745 Z\" fill=\"#000000\" fill-rule=\"evenodd\" fill-opacity=\"1\" /><path clip-path=\"url(#clip010)\" d=\"M2211.7 160.402 L2219.34 160.402 L2219.34 134.037 L2211.03 135.703 L2211.03 131.444 L2219.29 129.778 L2223.96 129.778 L2223.96 160.402 L2231.6 160.402 L2231.6 164.338 L2211.7 164.338 L2211.7 160.402 Z\" fill=\"#000000\" fill-rule=\"evenodd\" fill-opacity=\"1\" /></svg>\n"
      ]
     },
     "metadata": {},
     "output_type": "display_data"
    }
   ],
   "source": [
    "histogram(out)"
   ]
  },
  {
   "cell_type": "code",
   "execution_count": null,
   "metadata": {},
   "outputs": [],
   "source": []
  }
 ],
 "metadata": {
  "kernelspec": {
   "display_name": "Julia 1.7.2",
   "language": "julia",
   "name": "julia-1.7"
  },
  "language_info": {
   "file_extension": ".jl",
   "mimetype": "application/julia",
   "name": "julia",
   "version": "1.7.2"
  },
  "orig_nbformat": 4
 },
 "nbformat": 4,
 "nbformat_minor": 2
}
